{
 "cells": [
  {
   "cell_type": "code",
   "execution_count": 1,
   "metadata": {
    "dotnet_interactive": {
     "language": "csharp"
    },
    "polyglot_notebook": {
     "kernelName": "csharp"
    }
   },
   "outputs": [],
   "source": [
    "using System;\n",
    "using System.Collections.Generic;\n",
    "using System.Linq;\n",
    "\n",
    "public class AdaptiveTicker\n",
    "{\n",
    "    private decimal Base { get; }\n",
    "    private List<int> Mantissas { get; }\n",
    "    private decimal MinInterval { get; }\n",
    "    private decimal MaxInterval { get; }\n",
    "    private int DesiredNumTicks { get; }\n",
    "    private int NumMinorTicks { get; }\n",
    "\n",
    "    public AdaptiveTicker(decimal @base = 10.0m, List<int> mantissas = null, decimal minInterval = 0.0m, decimal? maxInterval = null)\n",
    "    {\n",
    "        Base = @base;\n",
    "        Mantissas = mantissas ?? new List<int> { 1, 2, 5 };\n",
    "        MinInterval = minInterval;\n",
    "        MaxInterval = maxInterval ?? decimal.MaxValue;\n",
    "        DesiredNumTicks = 6;\n",
    "        NumMinorTicks = 5;\n",
    "    }\n",
    "\n",
    "    public Dictionary<string, List<decimal>> GetTicks(decimal dataLow, decimal dataHigh)\n",
    "    {\n",
    "        return GetTicksNoDefaults(dataLow, dataHigh, DesiredNumTicks);\n",
    "    }\n",
    "\n",
    "    public Dictionary<string, List<decimal>> GetTicksNoDefaults(decimal dataLow, decimal dataHigh, int desiredNTicks)\n",
    "    {\n",
    "        decimal interval = GetInterval(dataLow, dataHigh, desiredNTicks);\n",
    "        int startFactor = (int)Math.Floor(dataLow / interval);\n",
    "        int endFactor = (int)Math.Ceiling(dataHigh / interval);\n",
    "\n",
    "        var ticks = Enumerable.Range(startFactor, endFactor - startFactor + 1)\n",
    "                              .Select(factor => factor * interval)\n",
    "                              .Where(tick => dataLow <= tick && tick <= dataHigh)\n",
    "                              .ToList();\n",
    "\n",
    "        var minorTicks = new List<decimal>();\n",
    "        if (NumMinorTicks > 0 && ticks.Any())\n",
    "        {\n",
    "            decimal minorInterval = interval / NumMinorTicks;\n",
    "            minorTicks = ticks.SelectMany(tick => Enumerable.Range(0, NumMinorTicks)\n",
    "                                                            .Select(x => tick + x * minorInterval)\n",
    "                                                            .Where(mt => dataLow <= mt && mt <= dataHigh))\n",
    "                              .ToList();\n",
    "        }\n",
    "\n",
    "        return new Dictionary<string, List<decimal>>\n",
    "        {\n",
    "            [\"major\"] = ticks,\n",
    "            [\"minor\"] = minorTicks\n",
    "        };\n",
    "    }\n",
    "\n",
    "    public decimal GetMinInterval() => MinInterval;\n",
    "\n",
    "    public decimal GetMaxInterval() => MaxInterval;\n",
    "\n",
    "    public List<decimal> ExtendedMantissas()\n",
    "    {\n",
    "        decimal prefixMantissa = Mantissas.Last() / Base;\n",
    "        decimal suffixMantissa = Mantissas.First() * Base;\n",
    "        return new[] { prefixMantissa }.Concat(Mantissas.Select(m => (decimal)m)).Concat(new[] { suffixMantissa }).ToList();\n",
    "    }\n",
    "\n",
    "    public decimal BaseFactor() => MinInterval == 0.0m ? 1.0m : MinInterval;\n",
    "\n",
    "    public decimal GetInterval(decimal dataLow, decimal dataHigh, int desiredNTicks)\n",
    "    {\n",
    "        decimal dataRange = dataHigh - dataLow;\n",
    "        decimal idealInterval = GetIdealInterval(dataLow, dataHigh, desiredNTicks);\n",
    "\n",
    "        int intervalExponent = (int)Math.Floor(Math.Log((double)(idealInterval / BaseFactor()), (double)Base));\n",
    "        decimal idealMagnitude = (decimal)Math.Pow((double)Base, intervalExponent) * BaseFactor();\n",
    "\n",
    "        var candidateMantissas = ExtendedMantissas();\n",
    "\n",
    "        var errors = candidateMantissas.Select(mantissa => Math.Abs(desiredNTicks - (dataRange / (mantissa * idealMagnitude)))).ToList();\n",
    "        decimal bestMantissa = candidateMantissas[ArgMin(errors)];\n",
    "        decimal interval = bestMantissa * idealMagnitude;\n",
    "\n",
    "        return Math.Max(Math.Min(interval, GetMaxInterval()), GetMinInterval());\n",
    "    }\n",
    "\n",
    "    public decimal GetIdealInterval(decimal dataLow, decimal dataHigh, int desiredNTicks)\n",
    "    {\n",
    "        // Placeholder for method to calculate ideal interval based on data and desired ticks\n",
    "        return (dataHigh - dataLow) / desiredNTicks;\n",
    "    }\n",
    "\n",
    "    public int ArgMin(List<decimal> values)\n",
    "    {\n",
    "        return values.IndexOf(values.Min());\n",
    "    }\n",
    "}\n"
   ]
  },
  {
   "cell_type": "code",
   "execution_count": 4,
   "metadata": {
    "dotnet_interactive": {
     "language": "csharp"
    },
    "polyglot_notebook": {
     "kernelName": "csharp"
    }
   },
   "outputs": [],
   "source": [
    "var ticker = new AdaptiveTicker();"
   ]
  },
  {
   "cell_type": "code",
   "execution_count": 5,
   "metadata": {},
   "outputs": [
    {
     "data": {
      "text/html": [
       "<table><thead><tr><th><i>key</i></th><th>value</th></tr></thead><tbody><tr><td><div class=\"dni-plaintext\"><pre>major</pre></div></td><td><div class=\"dni-plaintext\"><pre>[ 1.00, 1.20, 1.40, 1.60, 1.80, 2.00 ]</pre></div></td></tr><tr><td><div class=\"dni-plaintext\"><pre>minor</pre></div></td><td><div class=\"dni-plaintext\"><pre>[ 1.00, 1.04, 1.08, 1.12, 1.16, 1.20, 1.24, 1.28, 1.32, 1.36, 1.40, 1.44, 1.48, 1.52, 1.56, 1.60, 1.64, 1.68, 1.72, 1.76 ... (6 more) ]</pre></div></td></tr></tbody></table><style>\r\n",
       ".dni-code-hint {\r\n",
       "    font-style: italic;\r\n",
       "    overflow: hidden;\r\n",
       "    white-space: nowrap;\r\n",
       "}\r\n",
       ".dni-treeview {\r\n",
       "    white-space: nowrap;\r\n",
       "}\r\n",
       ".dni-treeview td {\r\n",
       "    vertical-align: top;\r\n",
       "    text-align: start;\r\n",
       "}\r\n",
       "details.dni-treeview {\r\n",
       "    padding-left: 1em;\r\n",
       "}\r\n",
       "table td {\r\n",
       "    text-align: start;\r\n",
       "}\r\n",
       "table tr { \r\n",
       "    vertical-align: top; \r\n",
       "    margin: 0em 0px;\r\n",
       "}\r\n",
       "table tr td pre \r\n",
       "{ \r\n",
       "    vertical-align: top !important; \r\n",
       "    margin: 0em 0px !important;\r\n",
       "} \r\n",
       "table th {\r\n",
       "    text-align: start;\r\n",
       "}\r\n",
       "</style>"
      ]
     },
     "metadata": {},
     "output_type": "display_data"
    }
   ],
   "source": [
    "ticker.GetTicks(1.0m, 2.0m)"
   ]
  },
  {
   "cell_type": "code",
   "execution_count": null,
   "metadata": {},
   "outputs": [],
   "source": []
  }
 ],
 "metadata": {
  "kernelspec": {
   "display_name": ".NET (C#)",
   "language": "C#",
   "name": ".net-csharp"
  },
  "language_info": {
   "name": "polyglot-notebook"
  },
  "polyglot_notebook": {
   "kernelInfo": {
    "defaultKernelName": "csharp",
    "items": [
     {
      "aliases": [],
      "languageName": "csharp",
      "name": "csharp"
     }
    ]
   }
  }
 },
 "nbformat": 4,
 "nbformat_minor": 2
}
